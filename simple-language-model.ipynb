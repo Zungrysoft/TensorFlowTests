{
 "cells": [
  {
   "attachments": {},
   "cell_type": "markdown",
   "metadata": {},
   "source": []
  },
  {
   "cell_type": "code",
   "execution_count": 19,
   "metadata": {},
   "outputs": [],
   "source": [
    "import tiktoken\n",
    "tik = tiktoken.get_encoding(\"gpt2\")\n",
    "import tensorflow as tf\n",
    "import tensorflow.keras as keras\n",
    "import numpy as np\n",
    "import transformers"
   ]
  },
  {
   "cell_type": "code",
   "execution_count": 20,
   "metadata": {},
   "outputs": [
    {
     "name": "stdout",
     "output_type": "stream",
     "text": [
      "input.txt has 231749 characters\n",
      " Reverse sculpting with stylus\n",
      "\n",
      "Thank you!\n",
      "A few questions about the missing textures on quake 3 imported maps.\n",
      "\n",
      "I did some digging and I figured it out. It was a pk3 file you install in your baseoa directory. Do a Google search for this file: gpl-q3a2oa-textures-v5.pk3 and you'll find what you need\n"
     ]
    }
   ],
   "source": [
    "# Read in training data file\n",
    "with open(\"input.txt\", 'r', encoding=\"utf-8\") as f:\n",
    "    text = f.read()\n",
    "\n",
    "print(f\"input.txt has {len(text)} characters\")\n",
    "print(text[:300])"
   ]
  },
  {
   "cell_type": "code",
   "execution_count": 21,
   "metadata": {},
   "outputs": [
    {
     "name": "stdout",
     "output_type": "stream",
     "text": [
      "\n",
      " !\"#$%&'()*+,-./0123456789:;<=>?@ABCDEFGHIJKLMNOPQRSTUVWXYZ[\\]_abcdefghijklmnopqrstuvwxyz{|}~¯×éö—‘’“”ツ𝐃𝐄𝐇𝐊𝐋𝐏𝐒𝑬𝑭𝑯𝑰𝑲𝑳𝑶𝑹𝑺𝑻🎵🐝\n",
      "[3666, 1438, 318, 1168, 2150, 563]\n",
      "My name is Zungry\n"
     ]
    }
   ],
   "source": [
    "# Analyze training data\n",
    "chars = sorted(list(set(text)))\n",
    "print(''.join(chars))\n",
    "\n",
    "print(tik.encode(\"My name is Zungry\"))\n",
    "print(tik.decode(tik.encode(\"My name is Zungry\")))"
   ]
  },
  {
   "cell_type": "code",
   "execution_count": 22,
   "metadata": {},
   "outputs": [
    {
     "name": "stdout",
     "output_type": "stream",
     "text": [
      "tf.Tensor(\n",
      "[31849 14747   278   351 22152   385   198   198 10449   345     0   198\n",
      "    32  1178  2683   546   262  4814 20028   319], shape=(20,), dtype=int32)\n"
     ]
    }
   ],
   "source": [
    "# Set up our data\n",
    "train_data = tf.Variable(tik.encode(text))\n",
    "print(train_data[:20])"
   ]
  },
  {
   "cell_type": "code",
   "execution_count": null,
   "metadata": {},
   "outputs": [],
   "source": []
  }
 ],
 "metadata": {
  "kernelspec": {
   "display_name": "Python 3",
   "language": "python",
   "name": "python3"
  },
  "language_info": {
   "codemirror_mode": {
    "name": "ipython",
    "version": 3
   },
   "file_extension": ".py",
   "mimetype": "text/x-python",
   "name": "python",
   "nbconvert_exporter": "python",
   "pygments_lexer": "ipython3",
   "version": "3.10.8"
  },
  "orig_nbformat": 4
 },
 "nbformat": 4,
 "nbformat_minor": 2
}
